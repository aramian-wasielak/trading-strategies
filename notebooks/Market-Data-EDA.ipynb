{
 "cells": [
  {
   "cell_type": "markdown",
   "metadata": {},
   "source": [
    "# Market Data EDA"
   ]
  },
  {
   "cell_type": "markdown",
   "metadata": {},
   "source": [
    "As part of this notebook we are going to take a look at the following Kaggle dataset:\n",
    "\n",
    "https://www.kaggle.com/borismarjanovic/price-volume-data-for-all-us-stocks-etfs\n",
    "\n",
    "The plan is to analyze this data and perform some quality checks."
   ]
  },
  {
   "cell_type": "code",
   "execution_count": 1,
   "metadata": {},
   "outputs": [],
   "source": [
    "import os\n",
    "from datetime import datetime\n",
    "import numpy as np\n",
    "import pandas as pd\n",
    "from pandas.plotting import register_matplotlib_converters\n",
    "register_matplotlib_converters()\n",
    "from tqdm.notebook import tqdm, trange\n",
    "import matplotlib.pyplot as plt\n",
    "import dask.dataframe as dd\n",
    "import pandas_datareader.data as web\n",
    "\n",
    "pd.set_option('display.min_rows', 50)"
   ]
  },
  {
   "cell_type": "code",
   "execution_count": 2,
   "metadata": {},
   "outputs": [],
   "source": [
    "# Path to data location\n",
    "DATA_DIR = '../data/price-volume-data-for-all-us-stocks-etfs/Data'\n",
    "STOCK_DIR = 'Stocks'\n",
    "ETF_DIR = 'ETFs'"
   ]
  },
  {
   "cell_type": "markdown",
   "metadata": {},
   "source": [
    "Some basic functions to get stock & etf tickers and extract data from csv files."
   ]
  },
  {
   "cell_type": "code",
   "execution_count": 3,
   "metadata": {},
   "outputs": [],
   "source": [
    "class EquityData:\n",
    "    \"\"\"\n",
    "    Provides an access layer to market data files made available\n",
    "    as part of the following Kaggle dataset:\n",
    "\n",
    "        https://www.kaggle.com/borismarjanovic/price-volume-data-for-all-us-stocks-etfs\n",
    "\n",
    "    Each file contains market data for one ticker (either stock or ETF). Also, each filename\n",
    "    has a specific naming convention: it consists of a ticker and a suffix (common to all files).\n",
    "\n",
    "    Attributes:\n",
    "        stock_dir (str): Directory location for stock files.\n",
    "        etf_dir (str): Directory location for ETF files.\n",
    "        file_suffix (str): A file suffix used by stock & ETF files.\n",
    "    \"\"\"\n",
    "\n",
    "    FILE_SUFFIX = '.us.txt'\n",
    "\n",
    "    def __init__(self, data_dir, stock_dir, etf_dir, file_suffix=FILE_SUFFIX):\n",
    "\n",
    "        self.stock_dir = os.path.join(data_dir, stock_dir)\n",
    "        self.etf_dir = os.path.join(data_dir, etf_dir)\n",
    "        self.file_suffix = file_suffix\n",
    "\n",
    "    @staticmethod\n",
    "    def _get_tickers(dirname, file_suffix):\n",
    "        \"\"\"\n",
    "        Creates a list of available tickers in a given directory.\n",
    "\n",
    "        Only non-empty files are considered.\n",
    "\n",
    "        Args:\n",
    "            file_suffix (str): A file suffix used by each data file.\n",
    "\n",
    "        Returns:\n",
    "            (List[str]): A list of available tickers.\n",
    "        \"\"\"\n",
    "\n",
    "        tickers = []\n",
    "        for file in os.listdir(dirname):\n",
    "            # This dataset includes empty files which we exclude here.\n",
    "            if os.stat(os.path.join(dirname, file)).st_size > 0:\n",
    "                tickers.append(file.replace(file_suffix, ''))\n",
    "\n",
    "        return tickers\n",
    "\n",
    "    def get_etf_tickers(self):\n",
    "        \"\"\"\n",
    "        Returns a list of available ETF tickers.\n",
    "\n",
    "        Returns:\n",
    "            (List[str]): A sorted list of available ETF tickers.\n",
    "        \"\"\"\n",
    "\n",
    "        return sorted(self._get_tickers(self.etf_dir, self.file_suffix))\n",
    "\n",
    "    def get_stock_tickers(self):\n",
    "        \"\"\"\n",
    "        Returns a list of available stock tickers.\n",
    "\n",
    "        Returns:\n",
    "            (List[str]): A sorted list of available stock tickers.\n",
    "        \"\"\"\n",
    "        return sorted(self._get_tickers(self.stock_dir, self.file_suffix))\n",
    "\n",
    "    def get_all_tickers(self):\n",
    "        \"\"\"\n",
    "        Returns a list of available stock and ETF tickers.\n",
    "\n",
    "        Returns:\n",
    "            (List[str]): A sorted list of available stock and ETF tickers.\n",
    "        \"\"\"\n",
    "        return sorted(self.get_etf_tickers() + self.get_stock_tickers())\n",
    "\n",
    "    def get_csv_data(self, ticker, start_date=None, end_date=None):\n",
    "        \"\"\"\n",
    "        Returns a list of available stock and ETF tickers.\n",
    "\n",
    "        Args:\n",
    "            ticker (str): A ticker name.\n",
    "            start_date (str): A start date\n",
    "            end_date (str): An end date\n",
    "\n",
    "        Returns:\n",
    "            (pd.DataFrame): Parsed market data for a given ticker.\n",
    "        \"\"\"\n",
    "        ticker = ticker.lower()\n",
    "\n",
    "        # Check ETFs first since the number of potential hits is much smaller.\n",
    "        if ticker in self.get_etf_tickers():\n",
    "            dirname = self.etf_dir\n",
    "        else:\n",
    "            dirname = self.stock_dir\n",
    "\n",
    "        result = pd.DataFrame()\n",
    "        csv = pd.read_csv(os.path.join(dirname, ticker + self.file_suffix))\n",
    "        result = pd.DataFrame({\n",
    "            'date': csv['Date'],\n",
    "            'ticker': ticker,\n",
    "            'price': csv['Close'],\n",
    "            'volume': csv['Volume']\n",
    "        })\n",
    "        result['date'] = result['date'].map(\n",
    "            lambda t: datetime.strptime(t, '%Y-%m-%d')).to_numpy()\n",
    "\n",
    "        if start_date is not None:\n",
    "            result = result[result['date'] >= start_date]\n",
    "\n",
    "        if end_date is not None:\n",
    "            result = result[result['date'] <= end_date]\n",
    "\n",
    "        result.index = result.date\n",
    "\n",
    "        # Only including weekdays\n",
    "        result['dayofweek'] = pd.DatetimeIndex(result.index).dayofweek\n",
    "        result = result[(result.dayofweek != 5) & (result.dayofweek != 6)]\n",
    "\n",
    "        return result"
   ]
  },
  {
   "cell_type": "code",
   "execution_count": 4,
   "metadata": {},
   "outputs": [],
   "source": [
    "equity_data = EquityData(DATA_DIR, STOCK_DIR, ETF_DIR)"
   ]
  },
  {
   "cell_type": "markdown",
   "metadata": {},
   "source": [
    "Let's try out this API and load market data for 'SPY' (ETF tracking S&P 500 index)"
   ]
  },
  {
   "cell_type": "code",
   "execution_count": 5,
   "metadata": {},
   "outputs": [
    {
     "data": {
      "text/html": [
       "<div>\n",
       "<style scoped>\n",
       "    .dataframe tbody tr th:only-of-type {\n",
       "        vertical-align: middle;\n",
       "    }\n",
       "\n",
       "    .dataframe tbody tr th {\n",
       "        vertical-align: top;\n",
       "    }\n",
       "\n",
       "    .dataframe thead th {\n",
       "        text-align: right;\n",
       "    }\n",
       "</style>\n",
       "<table border=\"1\" class=\"dataframe\">\n",
       "  <thead>\n",
       "    <tr style=\"text-align: right;\">\n",
       "      <th></th>\n",
       "      <th>date</th>\n",
       "      <th>ticker</th>\n",
       "      <th>price</th>\n",
       "      <th>volume</th>\n",
       "      <th>dayofweek</th>\n",
       "    </tr>\n",
       "    <tr>\n",
       "      <th>date</th>\n",
       "      <th></th>\n",
       "      <th></th>\n",
       "      <th></th>\n",
       "      <th></th>\n",
       "      <th></th>\n",
       "    </tr>\n",
       "  </thead>\n",
       "  <tbody>\n",
       "    <tr>\n",
       "      <th>2005-02-25</th>\n",
       "      <td>2005-02-25</td>\n",
       "      <td>spy</td>\n",
       "      <td>105.79</td>\n",
       "      <td>70221808</td>\n",
       "      <td>4</td>\n",
       "    </tr>\n",
       "    <tr>\n",
       "      <th>2005-02-28</th>\n",
       "      <td>2005-02-28</td>\n",
       "      <td>spy</td>\n",
       "      <td>105.08</td>\n",
       "      <td>79695344</td>\n",
       "      <td>0</td>\n",
       "    </tr>\n",
       "    <tr>\n",
       "      <th>2005-03-01</th>\n",
       "      <td>2005-03-01</td>\n",
       "      <td>spy</td>\n",
       "      <td>105.62</td>\n",
       "      <td>54607412</td>\n",
       "      <td>1</td>\n",
       "    </tr>\n",
       "    <tr>\n",
       "      <th>2005-03-02</th>\n",
       "      <td>2005-03-02</td>\n",
       "      <td>spy</td>\n",
       "      <td>105.57</td>\n",
       "      <td>73733090</td>\n",
       "      <td>2</td>\n",
       "    </tr>\n",
       "    <tr>\n",
       "      <th>2005-03-03</th>\n",
       "      <td>2005-03-03</td>\n",
       "      <td>spy</td>\n",
       "      <td>105.61</td>\n",
       "      <td>71286823</td>\n",
       "      <td>3</td>\n",
       "    </tr>\n",
       "  </tbody>\n",
       "</table>\n",
       "</div>"
      ],
      "text/plain": [
       "                 date ticker   price    volume  dayofweek\n",
       "date                                                     \n",
       "2005-02-25 2005-02-25    spy  105.79  70221808          4\n",
       "2005-02-28 2005-02-28    spy  105.08  79695344          0\n",
       "2005-03-01 2005-03-01    spy  105.62  54607412          1\n",
       "2005-03-02 2005-03-02    spy  105.57  73733090          2\n",
       "2005-03-03 2005-03-03    spy  105.61  71286823          3"
      ]
     },
     "execution_count": 5,
     "metadata": {},
     "output_type": "execute_result"
    }
   ],
   "source": [
    "example_ticker = 'SPY'\n",
    "\n",
    "data = equity_data.get_csv_data(example_ticker)\n",
    "data.head()"
   ]
  },
  {
   "cell_type": "markdown",
   "metadata": {},
   "source": [
    "Let's make sure there is no overlap between between stock and ETF tickers."
   ]
  },
  {
   "cell_type": "code",
   "execution_count": 6,
   "metadata": {},
   "outputs": [
    {
     "name": "stdout",
     "output_type": "stream",
     "text": [
      "No overlap - good\n"
     ]
    }
   ],
   "source": [
    "etf_tickers = equity_data.get_etf_tickers()\n",
    "stock_tickers = equity_data.get_stock_tickers()\n",
    "\n",
    "if len(np.intersect1d(etf_tickers, stock_tickers)) == 0:\n",
    "    print('No overlap - good')\n",
    "else:\n",
    "    print('There is some overlap')"
   ]
  },
  {
   "cell_type": "markdown",
   "metadata": {},
   "source": [
    "Let's calculate some basic stats for each ticker. Given limited resources of my laptop I am going to analyze each file separately and aggregate results. Another approach would be to use Spark or Dask (something that we will try to do in the following section)."
   ]
  },
  {
   "cell_type": "code",
   "execution_count": 7,
   "metadata": {
    "scrolled": true
   },
   "outputs": [
    {
     "data": {
      "application/vnd.jupyter.widget-view+json": {
       "model_id": "52ddd7c03883468b8a272bc52fa9de23",
       "version_major": 2,
       "version_minor": 0
      },
      "text/plain": [
       "HBox(children=(FloatProgress(value=0.0, max=8507.0), HTML(value='')))"
      ]
     },
     "metadata": {},
     "output_type": "display_data"
    },
    {
     "name": "stdout",
     "output_type": "stream",
     "text": [
      "\n"
     ]
    }
   ],
   "source": [
    "stats = []\n",
    "\n",
    "for ticker in tqdm(equity_data.get_all_tickers()):\n",
    "    data = equity_data.get_csv_data(ticker)\n",
    "    stats.append({\n",
    "        'ticker':\n",
    "        ticker,\n",
    "        'min_date':\n",
    "        data.index.min(),\n",
    "        'max_date':\n",
    "        data.index.max(),\n",
    "        'dollar_volume':\n",
    "        np.median(data['price'][-10:] * data['volume'][-10:])\n",
    "    })\n",
    "\n",
    "stats = pd.DataFrame(stats)"
   ]
  },
  {
   "cell_type": "code",
   "execution_count": 8,
   "metadata": {},
   "outputs": [],
   "source": [
    "cnt_min_date = stats.groupby(\n",
    "    ['min_date'])['ticker'].count().reset_index().rename({'ticker': 'count'})"
   ]
  },
  {
   "cell_type": "markdown",
   "metadata": {},
   "source": [
    "Let's calculate the number of data points for each date."
   ]
  },
  {
   "cell_type": "code",
   "execution_count": 9,
   "metadata": {
    "scrolled": true
   },
   "outputs": [],
   "source": [
    "def count_data_points(ticker_list):\n",
    "    cnt = None\n",
    "    for ticker in tqdm(ticker_list):\n",
    "        data = equity_data.get_csv_data(ticker)\n",
    "        data['count'] = 1\n",
    "\n",
    "        if cnt is None:\n",
    "            cnt = data['count']\n",
    "        else:\n",
    "            cnt = cnt.add(data['count'], fill_value=0)\n",
    "\n",
    "    return cnt"
   ]
  },
  {
   "cell_type": "code",
   "execution_count": 10,
   "metadata": {
    "scrolled": false
   },
   "outputs": [
    {
     "data": {
      "application/vnd.jupyter.widget-view+json": {
       "model_id": "483cb4594f1d4bcabac83679cf38f725",
       "version_major": 2,
       "version_minor": 0
      },
      "text/plain": [
       "HBox(children=(FloatProgress(value=0.0, max=1344.0), HTML(value='')))"
      ]
     },
     "metadata": {},
     "output_type": "display_data"
    },
    {
     "name": "stdout",
     "output_type": "stream",
     "text": [
      "\n"
     ]
    },
    {
     "data": {
      "application/vnd.jupyter.widget-view+json": {
       "model_id": "6343e85a1a1d4eb1a4b50865c8923ac7",
       "version_major": 2,
       "version_minor": 0
      },
      "text/plain": [
       "HBox(children=(FloatProgress(value=0.0, max=7163.0), HTML(value='')))"
      ]
     },
     "metadata": {},
     "output_type": "display_data"
    },
    {
     "name": "stdout",
     "output_type": "stream",
     "text": [
      "\n"
     ]
    }
   ],
   "source": [
    "cnt_etf = count_data_points(equity_data.get_etf_tickers())\n",
    "cnt_stock = count_data_points(equity_data.get_stock_tickers())"
   ]
  },
  {
   "cell_type": "code",
   "execution_count": 11,
   "metadata": {},
   "outputs": [
    {
     "data": {
      "image/png": "[encoded data removed]",
      "text/plain": [
       "<Figure size 1080x576 with 1 Axes>"
      ]
     },
     "metadata": {
      "needs_background": "light"
     },
     "output_type": "display_data"
    }
   ],
   "source": [
    "plt.figure(figsize=(15, 8))\n",
    "plt.plot(cnt_etf.index, cnt_etf.values)\n",
    "plt.plot(cnt_stock.index, cnt_stock.values)\n",
    "plt.plot(cnt_min_date.min_date, np.cumsum(cnt_min_date.ticker))\n",
    "plt.title('Number of Daily OHLC Values')\n",
    "plt.show()"
   ]
  },
  {
   "cell_type": "code",
   "execution_count": 12,
   "metadata": {},
   "outputs": [
    {
     "name": "stdout",
     "output_type": "stream",
     "text": [
      "The latest date available is 2017-11-10 00:00:00 and it contains 6,764 stocks and 1,261 ETFs\n"
     ]
    }
   ],
   "source": [
    "print('The latest date available is {} and it contains {:,.0f} stocks and {:,.0f} ETFs'.format(\n",
    "    cnt_stock.index[-1], cnt_stock[-1], cnt_etf[-1]))"
   ]
  },
  {
   "cell_type": "markdown",
   "metadata": {},
   "source": [
    "It looks like the amount of data points is generally growing and it contains a couple of extreme jumps. Given that the overall number of listed companies has been going down this most likely implies that the original download process was being actively extended to include additional tickers.\n",
    "\n",
    "In particular there is a huge jump taking place sometime in 2005 -- such a sharp jump would indicate that a process collecting data was extended to include a much larger universe of stocks and ETFs.\n",
    "\n",
    "Let's calculate daily percentage change in the number of per day tickers and check for anomalies."
   ]
  },
  {
   "cell_type": "code",
   "execution_count": 13,
   "metadata": {},
   "outputs": [],
   "source": [
    "cnt_total = cnt_etf.add(cnt_stock, fill_value=0)\n",
    "cnt = pd.DataFrame({\n",
    "    'date': cnt_total.index,\n",
    "    'total': cnt_total.values\n",
    "},\n",
    "                   index=cnt_total.index)\n",
    "\n",
    "cnt['etf'] = cnt_etf\n",
    "cnt['etf'] = cnt['etf'].fillna(0)\n",
    "\n",
    "cnt['stock'] = cnt_stock\n",
    "cnt['stock'] = cnt['stock'].fillna(0)\n",
    "\n",
    "cnt['stock_cnt_pct_chg'] = np.abs(cnt['stock'].pct_change())\n",
    "cnt['etf_cnt_pct_chg'] = np.abs(cnt['etf'].pct_change())"
   ]
  },
  {
   "cell_type": "code",
   "execution_count": 14,
   "metadata": {
    "scrolled": false
   },
   "outputs": [
    {
     "data": {
      "text/html": [
       "<div>\n",
       "<style scoped>\n",
       "    .dataframe tbody tr th:only-of-type {\n",
       "        vertical-align: middle;\n",
       "    }\n",
       "\n",
       "    .dataframe tbody tr th {\n",
       "        vertical-align: top;\n",
       "    }\n",
       "\n",
       "    .dataframe thead th {\n",
       "        text-align: right;\n",
       "    }\n",
       "</style>\n",
       "<table border=\"1\" class=\"dataframe\">\n",
       "  <thead>\n",
       "    <tr style=\"text-align: right;\">\n",
       "      <th></th>\n",
       "      <th>date</th>\n",
       "      <th>total</th>\n",
       "      <th>etf</th>\n",
       "      <th>stock</th>\n",
       "      <th>stock_cnt_pct_chg</th>\n",
       "      <th>etf_cnt_pct_chg</th>\n",
       "    </tr>\n",
       "    <tr>\n",
       "      <th>date</th>\n",
       "      <th></th>\n",
       "      <th></th>\n",
       "      <th></th>\n",
       "      <th></th>\n",
       "      <th></th>\n",
       "      <th></th>\n",
       "    </tr>\n",
       "  </thead>\n",
       "  <tbody>\n",
       "    <tr>\n",
       "      <th>1962-11-12</th>\n",
       "      <td>1962-11-12</td>\n",
       "      <td>2.0</td>\n",
       "      <td>0.0</td>\n",
       "      <td>2.0</td>\n",
       "      <td>1.000000</td>\n",
       "      <td>NaN</td>\n",
       "    </tr>\n",
       "    <tr>\n",
       "      <th>1970-01-02</th>\n",
       "      <td>1970-01-02</td>\n",
       "      <td>28.0</td>\n",
       "      <td>0.0</td>\n",
       "      <td>28.0</td>\n",
       "      <td>13.000000</td>\n",
       "      <td>NaN</td>\n",
       "    </tr>\n",
       "    <tr>\n",
       "      <th>1978-03-24</th>\n",
       "      <td>1978-03-24</td>\n",
       "      <td>1.0</td>\n",
       "      <td>0.0</td>\n",
       "      <td>1.0</td>\n",
       "      <td>0.976744</td>\n",
       "      <td>NaN</td>\n",
       "    </tr>\n",
       "    <tr>\n",
       "      <th>1978-03-27</th>\n",
       "      <td>1978-03-27</td>\n",
       "      <td>43.0</td>\n",
       "      <td>0.0</td>\n",
       "      <td>43.0</td>\n",
       "      <td>42.000000</td>\n",
       "      <td>NaN</td>\n",
       "    </tr>\n",
       "    <tr>\n",
       "      <th>1985-09-27</th>\n",
       "      <td>1985-09-27</td>\n",
       "      <td>11.0</td>\n",
       "      <td>0.0</td>\n",
       "      <td>11.0</td>\n",
       "      <td>0.932099</td>\n",
       "      <td>NaN</td>\n",
       "    </tr>\n",
       "    <tr>\n",
       "      <th>1985-09-30</th>\n",
       "      <td>1985-09-30</td>\n",
       "      <td>162.0</td>\n",
       "      <td>0.0</td>\n",
       "      <td>162.0</td>\n",
       "      <td>13.727273</td>\n",
       "      <td>NaN</td>\n",
       "    </tr>\n",
       "    <tr>\n",
       "      <th>1999-11-16</th>\n",
       "      <td>1999-11-16</td>\n",
       "      <td>14.0</td>\n",
       "      <td>0.0</td>\n",
       "      <td>14.0</td>\n",
       "      <td>0.958944</td>\n",
       "      <td>1.000000</td>\n",
       "    </tr>\n",
       "    <tr>\n",
       "      <th>1999-11-17</th>\n",
       "      <td>1999-11-17</td>\n",
       "      <td>344.0</td>\n",
       "      <td>1.0</td>\n",
       "      <td>343.0</td>\n",
       "      <td>23.500000</td>\n",
       "      <td>inf</td>\n",
       "    </tr>\n",
       "    <tr>\n",
       "      <th>2005-02-25</th>\n",
       "      <td>2005-02-25</td>\n",
       "      <td>2980.0</td>\n",
       "      <td>157.0</td>\n",
       "      <td>2823.0</td>\n",
       "      <td>6.734247</td>\n",
       "      <td>156.000000</td>\n",
       "    </tr>\n",
       "    <tr>\n",
       "      <th>2011-02-18</th>\n",
       "      <td>2011-02-18</td>\n",
       "      <td>4534.0</td>\n",
       "      <td>781.0</td>\n",
       "      <td>3753.0</td>\n",
       "      <td>3.691250</td>\n",
       "      <td>7.582418</td>\n",
       "    </tr>\n",
       "  </tbody>\n",
       "</table>\n",
       "</div>"
      ],
      "text/plain": [
       "                 date   total    etf   stock  stock_cnt_pct_chg  \\\n",
       "date                                                              \n",
       "1962-11-12 1962-11-12     2.0    0.0     2.0           1.000000   \n",
       "1970-01-02 1970-01-02    28.0    0.0    28.0          13.000000   \n",
       "1978-03-24 1978-03-24     1.0    0.0     1.0           0.976744   \n",
       "1978-03-27 1978-03-27    43.0    0.0    43.0          42.000000   \n",
       "1985-09-27 1985-09-27    11.0    0.0    11.0           0.932099   \n",
       "1985-09-30 1985-09-30   162.0    0.0   162.0          13.727273   \n",
       "1999-11-16 1999-11-16    14.0    0.0    14.0           0.958944   \n",
       "1999-11-17 1999-11-17   344.0    1.0   343.0          23.500000   \n",
       "2005-02-25 2005-02-25  2980.0  157.0  2823.0           6.734247   \n",
       "2011-02-18 2011-02-18  4534.0  781.0  3753.0           3.691250   \n",
       "\n",
       "            etf_cnt_pct_chg  \n",
       "date                         \n",
       "1962-11-12              NaN  \n",
       "1970-01-02              NaN  \n",
       "1978-03-24              NaN  \n",
       "1978-03-27              NaN  \n",
       "1985-09-27              NaN  \n",
       "1985-09-30              NaN  \n",
       "1999-11-16         1.000000  \n",
       "1999-11-17              inf  \n",
       "2005-02-25       156.000000  \n",
       "2011-02-18         7.582418  "
      ]
     },
     "execution_count": 14,
     "metadata": {},
     "output_type": "execute_result"
    }
   ],
   "source": [
    "cnt[cnt.stock_cnt_pct_chg > 0.8]"
   ]
  },
  {
   "cell_type": "code",
   "execution_count": 15,
   "metadata": {},
   "outputs": [
    {
     "data": {
      "text/html": [
       "<div>\n",
       "<style scoped>\n",
       "    .dataframe tbody tr th:only-of-type {\n",
       "        vertical-align: middle;\n",
       "    }\n",
       "\n",
       "    .dataframe tbody tr th {\n",
       "        vertical-align: top;\n",
       "    }\n",
       "\n",
       "    .dataframe thead th {\n",
       "        text-align: right;\n",
       "    }\n",
       "</style>\n",
       "<table border=\"1\" class=\"dataframe\">\n",
       "  <thead>\n",
       "    <tr style=\"text-align: right;\">\n",
       "      <th></th>\n",
       "      <th>date</th>\n",
       "      <th>total</th>\n",
       "      <th>etf</th>\n",
       "      <th>stock</th>\n",
       "      <th>stock_cnt_pct_chg</th>\n",
       "      <th>etf_cnt_pct_chg</th>\n",
       "    </tr>\n",
       "    <tr>\n",
       "      <th>date</th>\n",
       "      <th></th>\n",
       "      <th></th>\n",
       "      <th></th>\n",
       "      <th></th>\n",
       "      <th></th>\n",
       "      <th></th>\n",
       "    </tr>\n",
       "  </thead>\n",
       "  <tbody>\n",
       "    <tr>\n",
       "      <th>1999-03-10</th>\n",
       "      <td>1999-03-10</td>\n",
       "      <td>338.0</td>\n",
       "      <td>1.0</td>\n",
       "      <td>337.0</td>\n",
       "      <td>0.005900</td>\n",
       "      <td>inf</td>\n",
       "    </tr>\n",
       "    <tr>\n",
       "      <th>1999-11-16</th>\n",
       "      <td>1999-11-16</td>\n",
       "      <td>14.0</td>\n",
       "      <td>0.0</td>\n",
       "      <td>14.0</td>\n",
       "      <td>0.958944</td>\n",
       "      <td>1.000000</td>\n",
       "    </tr>\n",
       "    <tr>\n",
       "      <th>1999-11-17</th>\n",
       "      <td>1999-11-17</td>\n",
       "      <td>344.0</td>\n",
       "      <td>1.0</td>\n",
       "      <td>343.0</td>\n",
       "      <td>23.500000</td>\n",
       "      <td>inf</td>\n",
       "    </tr>\n",
       "    <tr>\n",
       "      <th>2005-02-25</th>\n",
       "      <td>2005-02-25</td>\n",
       "      <td>2980.0</td>\n",
       "      <td>157.0</td>\n",
       "      <td>2823.0</td>\n",
       "      <td>6.734247</td>\n",
       "      <td>156.000000</td>\n",
       "    </tr>\n",
       "    <tr>\n",
       "      <th>2011-02-17</th>\n",
       "      <td>2011-02-17</td>\n",
       "      <td>891.0</td>\n",
       "      <td>91.0</td>\n",
       "      <td>800.0</td>\n",
       "      <td>0.787629</td>\n",
       "      <td>0.882883</td>\n",
       "    </tr>\n",
       "    <tr>\n",
       "      <th>2011-02-18</th>\n",
       "      <td>2011-02-18</td>\n",
       "      <td>4534.0</td>\n",
       "      <td>781.0</td>\n",
       "      <td>3753.0</td>\n",
       "      <td>3.691250</td>\n",
       "      <td>7.582418</td>\n",
       "    </tr>\n",
       "  </tbody>\n",
       "</table>\n",
       "</div>"
      ],
      "text/plain": [
       "                 date   total    etf   stock  stock_cnt_pct_chg  \\\n",
       "date                                                              \n",
       "1999-03-10 1999-03-10   338.0    1.0   337.0           0.005900   \n",
       "1999-11-16 1999-11-16    14.0    0.0    14.0           0.958944   \n",
       "1999-11-17 1999-11-17   344.0    1.0   343.0          23.500000   \n",
       "2005-02-25 2005-02-25  2980.0  157.0  2823.0           6.734247   \n",
       "2011-02-17 2011-02-17   891.0   91.0   800.0           0.787629   \n",
       "2011-02-18 2011-02-18  4534.0  781.0  3753.0           3.691250   \n",
       "\n",
       "            etf_cnt_pct_chg  \n",
       "date                         \n",
       "1999-03-10              inf  \n",
       "1999-11-16         1.000000  \n",
       "1999-11-17              inf  \n",
       "2005-02-25       156.000000  \n",
       "2011-02-17         0.882883  \n",
       "2011-02-18         7.582418  "
      ]
     },
     "execution_count": 15,
     "metadata": {},
     "output_type": "execute_result"
    }
   ],
   "source": [
    "cnt[cnt.etf_cnt_pct_chg > 0.8]"
   ]
  },
  {
   "cell_type": "markdown",
   "metadata": {},
   "source": [
    "We can see that the two huge jumps observed on the chart took place on 2005-02-25 and 2011-02-17. Let's take a look at them in detail below."
   ]
  },
  {
   "cell_type": "code",
   "execution_count": 16,
   "metadata": {},
   "outputs": [
    {
     "data": {
      "text/html": [
       "<div>\n",
       "<style scoped>\n",
       "    .dataframe tbody tr th:only-of-type {\n",
       "        vertical-align: middle;\n",
       "    }\n",
       "\n",
       "    .dataframe tbody tr th {\n",
       "        vertical-align: top;\n",
       "    }\n",
       "\n",
       "    .dataframe thead th {\n",
       "        text-align: right;\n",
       "    }\n",
       "</style>\n",
       "<table border=\"1\" class=\"dataframe\">\n",
       "  <thead>\n",
       "    <tr style=\"text-align: right;\">\n",
       "      <th></th>\n",
       "      <th>date</th>\n",
       "      <th>total</th>\n",
       "      <th>etf</th>\n",
       "      <th>stock</th>\n",
       "      <th>stock_cnt_pct_chg</th>\n",
       "      <th>etf_cnt_pct_chg</th>\n",
       "    </tr>\n",
       "    <tr>\n",
       "      <th>date</th>\n",
       "      <th></th>\n",
       "      <th></th>\n",
       "      <th></th>\n",
       "      <th></th>\n",
       "      <th></th>\n",
       "      <th></th>\n",
       "    </tr>\n",
       "  </thead>\n",
       "  <tbody>\n",
       "    <tr>\n",
       "      <th>2005-02-23</th>\n",
       "      <td>2005-02-23</td>\n",
       "      <td>364.0</td>\n",
       "      <td>1.0</td>\n",
       "      <td>363.0</td>\n",
       "      <td>0.002747</td>\n",
       "      <td>0.000000</td>\n",
       "    </tr>\n",
       "    <tr>\n",
       "      <th>2005-02-24</th>\n",
       "      <td>2005-02-24</td>\n",
       "      <td>366.0</td>\n",
       "      <td>1.0</td>\n",
       "      <td>365.0</td>\n",
       "      <td>0.005510</td>\n",
       "      <td>0.000000</td>\n",
       "    </tr>\n",
       "    <tr>\n",
       "      <th>2005-02-25</th>\n",
       "      <td>2005-02-25</td>\n",
       "      <td>2980.0</td>\n",
       "      <td>157.0</td>\n",
       "      <td>2823.0</td>\n",
       "      <td>6.734247</td>\n",
       "      <td>156.000000</td>\n",
       "    </tr>\n",
       "    <tr>\n",
       "      <th>2005-02-28</th>\n",
       "      <td>2005-02-28</td>\n",
       "      <td>2977.0</td>\n",
       "      <td>156.0</td>\n",
       "      <td>2821.0</td>\n",
       "      <td>0.000708</td>\n",
       "      <td>0.006369</td>\n",
       "    </tr>\n",
       "  </tbody>\n",
       "</table>\n",
       "</div>"
      ],
      "text/plain": [
       "                 date   total    etf   stock  stock_cnt_pct_chg  \\\n",
       "date                                                              \n",
       "2005-02-23 2005-02-23   364.0    1.0   363.0           0.002747   \n",
       "2005-02-24 2005-02-24   366.0    1.0   365.0           0.005510   \n",
       "2005-02-25 2005-02-25  2980.0  157.0  2823.0           6.734247   \n",
       "2005-02-28 2005-02-28  2977.0  156.0  2821.0           0.000708   \n",
       "\n",
       "            etf_cnt_pct_chg  \n",
       "date                         \n",
       "2005-02-23         0.000000  \n",
       "2005-02-24         0.000000  \n",
       "2005-02-25       156.000000  \n",
       "2005-02-28         0.006369  "
      ]
     },
     "execution_count": 16,
     "metadata": {},
     "output_type": "execute_result"
    }
   ],
   "source": [
    "cnt['2005-02-23':'2005-02-28']"
   ]
  },
  {
   "cell_type": "markdown",
   "metadata": {},
   "source": [
    "This jump is probably due to the fact that the collection process was extended to include a much \n",
    "bigger universe of stocks and ETFs."
   ]
  },
  {
   "cell_type": "code",
   "execution_count": 17,
   "metadata": {},
   "outputs": [
    {
     "data": {
      "text/html": [
       "<div>\n",
       "<style scoped>\n",
       "    .dataframe tbody tr th:only-of-type {\n",
       "        vertical-align: middle;\n",
       "    }\n",
       "\n",
       "    .dataframe tbody tr th {\n",
       "        vertical-align: top;\n",
       "    }\n",
       "\n",
       "    .dataframe thead th {\n",
       "        text-align: right;\n",
       "    }\n",
       "</style>\n",
       "<table border=\"1\" class=\"dataframe\">\n",
       "  <thead>\n",
       "    <tr style=\"text-align: right;\">\n",
       "      <th></th>\n",
       "      <th>date</th>\n",
       "      <th>total</th>\n",
       "      <th>etf</th>\n",
       "      <th>stock</th>\n",
       "      <th>stock_cnt_pct_chg</th>\n",
       "      <th>etf_cnt_pct_chg</th>\n",
       "    </tr>\n",
       "    <tr>\n",
       "      <th>date</th>\n",
       "      <th></th>\n",
       "      <th></th>\n",
       "      <th></th>\n",
       "      <th></th>\n",
       "      <th></th>\n",
       "      <th></th>\n",
       "    </tr>\n",
       "  </thead>\n",
       "  <tbody>\n",
       "    <tr>\n",
       "      <th>2011-02-16</th>\n",
       "      <td>2011-02-16</td>\n",
       "      <td>4544.0</td>\n",
       "      <td>777.0</td>\n",
       "      <td>3767.0</td>\n",
       "      <td>0.005069</td>\n",
       "      <td>0.002567</td>\n",
       "    </tr>\n",
       "    <tr>\n",
       "      <th>2011-02-17</th>\n",
       "      <td>2011-02-17</td>\n",
       "      <td>891.0</td>\n",
       "      <td>91.0</td>\n",
       "      <td>800.0</td>\n",
       "      <td>0.787629</td>\n",
       "      <td>0.882883</td>\n",
       "    </tr>\n",
       "    <tr>\n",
       "      <th>2011-02-18</th>\n",
       "      <td>2011-02-18</td>\n",
       "      <td>4534.0</td>\n",
       "      <td>781.0</td>\n",
       "      <td>3753.0</td>\n",
       "      <td>3.691250</td>\n",
       "      <td>7.582418</td>\n",
       "    </tr>\n",
       "    <tr>\n",
       "      <th>2011-02-22</th>\n",
       "      <td>2011-02-22</td>\n",
       "      <td>4553.0</td>\n",
       "      <td>781.0</td>\n",
       "      <td>3772.0</td>\n",
       "      <td>0.005063</td>\n",
       "      <td>0.000000</td>\n",
       "    </tr>\n",
       "  </tbody>\n",
       "</table>\n",
       "</div>"
      ],
      "text/plain": [
       "                 date   total    etf   stock  stock_cnt_pct_chg  \\\n",
       "date                                                              \n",
       "2011-02-16 2011-02-16  4544.0  777.0  3767.0           0.005069   \n",
       "2011-02-17 2011-02-17   891.0   91.0   800.0           0.787629   \n",
       "2011-02-18 2011-02-18  4534.0  781.0  3753.0           3.691250   \n",
       "2011-02-22 2011-02-22  4553.0  781.0  3772.0           0.005063   \n",
       "\n",
       "            etf_cnt_pct_chg  \n",
       "date                         \n",
       "2011-02-16         0.002567  \n",
       "2011-02-17         0.882883  \n",
       "2011-02-18         7.582418  \n",
       "2011-02-22         0.000000  "
      ]
     },
     "execution_count": 17,
     "metadata": {},
     "output_type": "execute_result"
    }
   ],
   "source": [
    "cnt['2011-02-16':'2011-02-22']"
   ]
  },
  {
   "cell_type": "markdown",
   "metadata": {},
   "source": [
    "There does not seem to be a significant trading event taking place on this date (that would somehow affect trading for a large number of stocks and ETFs), therefore this drop is likely due to a one-day issue with the data collection process. In fact let's use Yahoo data to test this theory out."
   ]
  },
  {
   "cell_type": "markdown",
   "metadata": {},
   "source": [
    "## Comparison with Yahoo Finance Data"
   ]
  },
  {
   "cell_type": "code",
   "execution_count": 18,
   "metadata": {},
   "outputs": [],
   "source": [
    "start_date = '2010-01-01'\n",
    "end_date = '2011-12-31'\n",
    "example_ticker = 'SPY'"
   ]
  },
  {
   "cell_type": "code",
   "execution_count": 19,
   "metadata": {},
   "outputs": [
    {
     "data": {
      "text/html": [
       "<div>\n",
       "<style scoped>\n",
       "    .dataframe tbody tr th:only-of-type {\n",
       "        vertical-align: middle;\n",
       "    }\n",
       "\n",
       "    .dataframe tbody tr th {\n",
       "        vertical-align: top;\n",
       "    }\n",
       "\n",
       "    .dataframe thead th {\n",
       "        text-align: right;\n",
       "    }\n",
       "</style>\n",
       "<table border=\"1\" class=\"dataframe\">\n",
       "  <thead>\n",
       "    <tr style=\"text-align: right;\">\n",
       "      <th></th>\n",
       "      <th>High</th>\n",
       "      <th>Low</th>\n",
       "      <th>Open</th>\n",
       "      <th>Close</th>\n",
       "      <th>Volume</th>\n",
       "      <th>Adj Close</th>\n",
       "    </tr>\n",
       "    <tr>\n",
       "      <th>Date</th>\n",
       "      <th></th>\n",
       "      <th></th>\n",
       "      <th></th>\n",
       "      <th></th>\n",
       "      <th></th>\n",
       "      <th></th>\n",
       "    </tr>\n",
       "  </thead>\n",
       "  <tbody>\n",
       "    <tr>\n",
       "      <th>2010-01-04</th>\n",
       "      <td>113.389999</td>\n",
       "      <td>111.510002</td>\n",
       "      <td>112.370003</td>\n",
       "      <td>113.330002</td>\n",
       "      <td>118944600.0</td>\n",
       "      <td>92.246048</td>\n",
       "    </tr>\n",
       "    <tr>\n",
       "      <th>2010-01-05</th>\n",
       "      <td>113.680000</td>\n",
       "      <td>112.849998</td>\n",
       "      <td>113.260002</td>\n",
       "      <td>113.629997</td>\n",
       "      <td>111579900.0</td>\n",
       "      <td>92.490204</td>\n",
       "    </tr>\n",
       "    <tr>\n",
       "      <th>2010-01-06</th>\n",
       "      <td>113.989998</td>\n",
       "      <td>113.430000</td>\n",
       "      <td>113.519997</td>\n",
       "      <td>113.709999</td>\n",
       "      <td>116074400.0</td>\n",
       "      <td>92.555328</td>\n",
       "    </tr>\n",
       "    <tr>\n",
       "      <th>2010-01-07</th>\n",
       "      <td>114.330002</td>\n",
       "      <td>113.180000</td>\n",
       "      <td>113.500000</td>\n",
       "      <td>114.190002</td>\n",
       "      <td>131091100.0</td>\n",
       "      <td>92.946060</td>\n",
       "    </tr>\n",
       "    <tr>\n",
       "      <th>2010-01-08</th>\n",
       "      <td>114.620003</td>\n",
       "      <td>113.660004</td>\n",
       "      <td>113.889999</td>\n",
       "      <td>114.570000</td>\n",
       "      <td>126402800.0</td>\n",
       "      <td>93.255348</td>\n",
       "    </tr>\n",
       "  </tbody>\n",
       "</table>\n",
       "</div>"
      ],
      "text/plain": [
       "                  High         Low        Open       Close       Volume  \\\n",
       "Date                                                                      \n",
       "2010-01-04  113.389999  111.510002  112.370003  113.330002  118944600.0   \n",
       "2010-01-05  113.680000  112.849998  113.260002  113.629997  111579900.0   \n",
       "2010-01-06  113.989998  113.430000  113.519997  113.709999  116074400.0   \n",
       "2010-01-07  114.330002  113.180000  113.500000  114.190002  131091100.0   \n",
       "2010-01-08  114.620003  113.660004  113.889999  114.570000  126402800.0   \n",
       "\n",
       "            Adj Close  \n",
       "Date                   \n",
       "2010-01-04  92.246048  \n",
       "2010-01-05  92.490204  \n",
       "2010-01-06  92.555328  \n",
       "2010-01-07  92.946060  \n",
       "2010-01-08  93.255348  "
      ]
     },
     "execution_count": 19,
     "metadata": {},
     "output_type": "execute_result"
    }
   ],
   "source": [
    "yh_data = web.DataReader(example_ticker, 'yahoo', start_date, end_date)\n",
    "yh_data.head()"
   ]
  },
  {
   "cell_type": "code",
   "execution_count": 20,
   "metadata": {},
   "outputs": [
    {
     "data": {
      "text/html": [
       "<div>\n",
       "<style scoped>\n",
       "    .dataframe tbody tr th:only-of-type {\n",
       "        vertical-align: middle;\n",
       "    }\n",
       "\n",
       "    .dataframe tbody tr th {\n",
       "        vertical-align: top;\n",
       "    }\n",
       "\n",
       "    .dataframe thead th {\n",
       "        text-align: right;\n",
       "    }\n",
       "</style>\n",
       "<table border=\"1\" class=\"dataframe\">\n",
       "  <thead>\n",
       "    <tr style=\"text-align: right;\">\n",
       "      <th></th>\n",
       "      <th>date</th>\n",
       "      <th>ticker</th>\n",
       "      <th>price</th>\n",
       "      <th>volume</th>\n",
       "      <th>dayofweek</th>\n",
       "    </tr>\n",
       "    <tr>\n",
       "      <th>date</th>\n",
       "      <th></th>\n",
       "      <th></th>\n",
       "      <th></th>\n",
       "      <th></th>\n",
       "      <th></th>\n",
       "    </tr>\n",
       "  </thead>\n",
       "  <tbody>\n",
       "    <tr>\n",
       "      <th>2010-01-04</th>\n",
       "      <td>2010-01-04</td>\n",
       "      <td>spy</td>\n",
       "      <td>98.728</td>\n",
       "      <td>136535215</td>\n",
       "      <td>0</td>\n",
       "    </tr>\n",
       "    <tr>\n",
       "      <th>2010-01-05</th>\n",
       "      <td>2010-01-05</td>\n",
       "      <td>spy</td>\n",
       "      <td>98.986</td>\n",
       "      <td>128081381</td>\n",
       "      <td>1</td>\n",
       "    </tr>\n",
       "    <tr>\n",
       "      <th>2010-01-06</th>\n",
       "      <td>2010-01-06</td>\n",
       "      <td>spy</td>\n",
       "      <td>99.040</td>\n",
       "      <td>133240614</td>\n",
       "      <td>2</td>\n",
       "    </tr>\n",
       "    <tr>\n",
       "      <th>2010-01-07</th>\n",
       "      <td>2010-01-07</td>\n",
       "      <td>spy</td>\n",
       "      <td>99.478</td>\n",
       "      <td>150478068</td>\n",
       "      <td>3</td>\n",
       "    </tr>\n",
       "    <tr>\n",
       "      <th>2010-01-08</th>\n",
       "      <td>2010-01-08</td>\n",
       "      <td>spy</td>\n",
       "      <td>99.810</td>\n",
       "      <td>145096435</td>\n",
       "      <td>4</td>\n",
       "    </tr>\n",
       "  </tbody>\n",
       "</table>\n",
       "</div>"
      ],
      "text/plain": [
       "                 date ticker   price     volume  dayofweek\n",
       "date                                                      \n",
       "2010-01-04 2010-01-04    spy  98.728  136535215          0\n",
       "2010-01-05 2010-01-05    spy  98.986  128081381          1\n",
       "2010-01-06 2010-01-06    spy  99.040  133240614          2\n",
       "2010-01-07 2010-01-07    spy  99.478  150478068          3\n",
       "2010-01-08 2010-01-08    spy  99.810  145096435          4"
      ]
     },
     "execution_count": 20,
     "metadata": {},
     "output_type": "execute_result"
    }
   ],
   "source": [
    "csv_data = equity_data.get_csv_data(example_ticker, start_date, end_date)\n",
    "csv_data.head()"
   ]
  },
  {
   "cell_type": "markdown",
   "metadata": {},
   "source": [
    "Let's make sure that calls return two identical sets of tradning dates."
   ]
  },
  {
   "cell_type": "code",
   "execution_count": 21,
   "metadata": {},
   "outputs": [
    {
     "name": "stdout",
     "output_type": "stream",
     "text": [
      "Here is a list of dates returned by Yahoo but not found in csv: ['2011-02-17']\n"
     ]
    }
   ],
   "source": [
    "yh_dates_not_csv = yh_data.index[~yh_data.index.isin(csv_data.index)]\n",
    "if len(yh_dates_not_csv):\n",
    "    print('Here is a list of dates returned by Yahoo but not found in csv: {}'.\n",
    "          format(list(yh_dates_not_csv.strftime('%Y-%m-%d'))))\n",
    "\n",
    "csv_dates_not_yh = csv_data.index[~csv_data.index.isin(yh_data.index)]\n",
    "if len(csv_dates_not_yh):\n",
    "    print('Here is a list of dates returned by Yahoo but not found in csv: {}'.\n",
    "          format(list(csv_dates_not_yh.strftime('%Y-%m-%d'))))"
   ]
  },
  {
   "cell_type": "markdown",
   "metadata": {},
   "source": [
    "This confirms our earlier theory that the csv data was not fully downloaded on '2011-02-17'."
   ]
  },
  {
   "cell_type": "markdown",
   "metadata": {},
   "source": [
    "The csv data is supposed to be split & dividend adjusted as of '2017-11-10' vs how Yahoo adjusts its data based on the the latest available date. Let's download a new set of dates and compare csv prices vs unadjusted Yahoo prices. Let's use ratios instead of absolute differences to perform this comparison."
   ]
  },
  {
   "cell_type": "code",
   "execution_count": 22,
   "metadata": {
    "scrolled": true
   },
   "outputs": [
    {
     "data": {
      "text/plain": [
       "<matplotlib.axes._subplots.AxesSubplot at 0x7fc8991d36d0>"
      ]
     },
     "execution_count": 22,
     "metadata": {},
     "output_type": "execute_result"
    },
    {
     "data": {
      "image/png": "[encoded data removed]",
      "text/plain": [
       "<Figure size 432x288 with 1 Axes>"
      ]
     },
     "metadata": {
      "needs_background": "light"
     },
     "output_type": "display_data"
    }
   ],
   "source": [
    "start_date = '2016-01-01'\n",
    "end_date = '2017-11-10'\n",
    "\n",
    "yh_data = web.DataReader(example_ticker, 'yahoo', start_date, end_date)\n",
    "csv_data = equity_data.get_csv_data(example_ticker, start_date, end_date)\n",
    "\n",
    "abs(yh_data['Close'] / csv_data['price']).plot()"
   ]
  },
  {
   "cell_type": "markdown",
   "metadata": {},
   "source": [
    "These steps (for the most part) are very smooth and imply that csv data was dividend adjusted (SPY does not have any splits).\n",
    "\n",
    "There are more checks that should be performed to ensure data quality of csv files, but let's stop here for now."
   ]
  },
  {
   "cell_type": "markdown",
   "metadata": {},
   "source": [
    "## Utilizing Dask for Analyzing Data"
   ]
  },
  {
   "cell_type": "markdown",
   "metadata": {},
   "source": [
    "Given that each ticker is saved into its own file, a more efficient (from usability perspective) would be to calculate basic statistics utilizing a tool like Dask. Here is an example how we could go about in case of analyzing stock data."
   ]
  },
  {
   "cell_type": "code",
   "execution_count": 23,
   "metadata": {
    "scrolled": false
   },
   "outputs": [
    {
     "data": {
      "text/html": [
       "<div>\n",
       "<style scoped>\n",
       "    .dataframe tbody tr th:only-of-type {\n",
       "        vertical-align: middle;\n",
       "    }\n",
       "\n",
       "    .dataframe tbody tr th {\n",
       "        vertical-align: top;\n",
       "    }\n",
       "\n",
       "    .dataframe thead th {\n",
       "        text-align: right;\n",
       "    }\n",
       "</style>\n",
       "<table border=\"1\" class=\"dataframe\">\n",
       "  <thead>\n",
       "    <tr style=\"text-align: right;\">\n",
       "      <th></th>\n",
       "      <th>ticker</th>\n",
       "      <th>price</th>\n",
       "      <th>volume</th>\n",
       "    </tr>\n",
       "    <tr>\n",
       "      <th>date</th>\n",
       "      <th></th>\n",
       "      <th></th>\n",
       "      <th></th>\n",
       "    </tr>\n",
       "  </thead>\n",
       "  <tbody>\n",
       "    <tr>\n",
       "      <th>1999-11-18</th>\n",
       "      <td>a</td>\n",
       "      <td>29.702</td>\n",
       "      <td>66277506</td>\n",
       "    </tr>\n",
       "    <tr>\n",
       "      <th>1999-11-19</th>\n",
       "      <td>a</td>\n",
       "      <td>27.257</td>\n",
       "      <td>16142920</td>\n",
       "    </tr>\n",
       "    <tr>\n",
       "      <th>1999-11-22</th>\n",
       "      <td>a</td>\n",
       "      <td>29.702</td>\n",
       "      <td>6970266</td>\n",
       "    </tr>\n",
       "    <tr>\n",
       "      <th>1999-11-23</th>\n",
       "      <td>a</td>\n",
       "      <td>27.002</td>\n",
       "      <td>6332082</td>\n",
       "    </tr>\n",
       "    <tr>\n",
       "      <th>1999-11-24</th>\n",
       "      <td>a</td>\n",
       "      <td>27.717</td>\n",
       "      <td>5132147</td>\n",
       "    </tr>\n",
       "  </tbody>\n",
       "</table>\n",
       "</div>"
      ],
      "text/plain": [
       "           ticker   price    volume\n",
       "date                               \n",
       "1999-11-18      a  29.702  66277506\n",
       "1999-11-19      a  27.257  16142920\n",
       "1999-11-22      a  29.702   6970266\n",
       "1999-11-23      a  27.002   6332082\n",
       "1999-11-24      a  27.717   5132147"
      ]
     },
     "execution_count": 23,
     "metadata": {},
     "output_type": "execute_result"
    }
   ],
   "source": [
    "# We map stock files to one virtual dataframe. A new column ('path') is created\n",
    "# which contains a source filename for each data row.\n",
    "\n",
    "STOCK_DATA_DIR = os.path.join(DATA_DIR, STOCK_DIR)\n",
    "stocks = dd.read_csv(os.path.join(STOCK_DATA_DIR,\n",
    "                                  '*' + EquityData.FILE_SUFFIX),\n",
    "                     include_path_column=True)\n",
    "\n",
    "# We extract a ticker using the path variable\n",
    "stocks['ticker'] = stocks['path'].str.replace('.*' + STOCK_DATA_DIR + '/',\n",
    "                                              '',\n",
    "                                              regex=True)\n",
    "stocks['ticker'] = stocks['ticker'].str.replace('.us.txt', '')\n",
    "\n",
    "stocks = stocks.drop(columns=['Open', 'High', 'Low', 'OpenInt', 'path'])\n",
    "stocks = stocks.rename(columns={\n",
    "    'Date': 'date',\n",
    "    'Close': 'price',\n",
    "    'Volume': 'volume'\n",
    "})\n",
    "stocks.index = stocks.date\n",
    "stocks = stocks[['ticker', 'price', 'volume']]\n",
    "stocks.head()"
   ]
  },
  {
   "cell_type": "code",
   "execution_count": 24,
   "metadata": {
    "scrolled": true
   },
   "outputs": [],
   "source": [
    "cnt_stock_dask = stocks.groupby(['date'])['price'].count().compute()\n",
    "\n",
    "# We need to make sure that index values are sorted\n",
    "cnt_stock_dask = cnt_stock_dask.sort_index()"
   ]
  },
  {
   "cell_type": "code",
   "execution_count": 25,
   "metadata": {},
   "outputs": [
    {
     "name": "stdout",
     "output_type": "stream",
     "text": [
      "Results for both approaches (Dask & Pandas) are matching up - good\n"
     ]
    }
   ],
   "source": [
    "if all(cnt_stock == cnt_stock):\n",
    "    print('Results for both approaches (Dask & Pandas) are matching up - good')"
   ]
  },
  {
   "cell_type": "markdown",
   "metadata": {},
   "source": [
    "**Conclusion:** In general, using Dask is much more convenient compared to writing custom functions to process data for each ticker and than aggregate results. One should run some performance checks to further examine pros and cons of using Dask."
   ]
  }
 ],
 "metadata": {
  "kernelspec": {
   "display_name": "Python 3",
   "language": "python",
   "name": "python3"
  },
  "language_info": {
   "codemirror_mode": {
    "name": "ipython",
    "version": 3
   },
   "file_extension": ".py",
   "mimetype": "text/x-python",
   "name": "python",
   "nbconvert_exporter": "python",
   "pygments_lexer": "ipython3",
   "version": "3.7.6"
  }
 },
 "nbformat": 4,
 "nbformat_minor": 4
}
